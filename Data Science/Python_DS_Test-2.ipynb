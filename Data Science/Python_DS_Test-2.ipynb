{
 "cells": [
  {
   "cell_type": "code",
   "execution_count": null,
   "id": "68eaa1f2-61ad-4c22-9286-dbc060624dee",
   "metadata": {},
   "outputs": [],
   "source": [
    "Implement a decorator function called ‘timer’ that measures the execution time of a function. The ‘timer’ decorator \n",
    "should print the time taken by the decorated function to execute. Use the ‘time’ module in Python to calculate the execution time."
   ]
  },
  {
   "cell_type": "code",
   "execution_count": 1,
   "id": "1c3dc2c7-e7b3-43d7-9817-4144f32ebffc",
   "metadata": {},
   "outputs": [],
   "source": [
    "import time\n",
    "\n",
    "def timer(func):\n",
    "    def wrapper(*args, **kwargs):\n",
    "        start_time = time.time()\n",
    "        result = func(*args, **kwargs)\n",
    "        end_time = time.time()\n",
    "        execution_time = end_time - start_time\n",
    "        print(f\"Execution time: {execution_time} seconds\")\n",
    "        return result\n",
    "    return wrapper"
   ]
  },
  {
   "cell_type": "code",
   "execution_count": 3,
   "id": "71da3193-2858-437a-b62b-3434280654f6",
   "metadata": {},
   "outputs": [
    {
     "name": "stdout",
     "output_type": "stream",
     "text": [
      "This is the code to show how to execute time decorate to get execution time of the function. \n",
      "Execution time: 2.0021228790283203 seconds\n"
     ]
    }
   ],
   "source": [
    "@timer\n",
    "def my_function():\n",
    "    print(\"This is the code to show how to execute time decorate to get execution time of the function. \")\n",
    "    time.sleep(2)\n",
    "\n",
    "my_function()"
   ]
  },
  {
   "cell_type": "code",
   "execution_count": null,
   "id": "77e6e251-dfff-4281-98d4-d63fbb4b5beb",
   "metadata": {},
   "outputs": [],
   "source": []
  }
 ],
 "metadata": {
  "kernelspec": {
   "display_name": "Python 3 (ipykernel)",
   "language": "python",
   "name": "python3"
  },
  "language_info": {
   "codemirror_mode": {
    "name": "ipython",
    "version": 3
   },
   "file_extension": ".py",
   "mimetype": "text/x-python",
   "name": "python",
   "nbconvert_exporter": "python",
   "pygments_lexer": "ipython3",
   "version": "3.10.8"
  }
 },
 "nbformat": 4,
 "nbformat_minor": 5
}
