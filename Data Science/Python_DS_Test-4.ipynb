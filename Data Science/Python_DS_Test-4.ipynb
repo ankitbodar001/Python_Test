{
 "cells": [
  {
   "cell_type": "code",
   "execution_count": null,
   "id": "609c1a7e-3221-496e-bced-9b6fd9cd5ff3",
   "metadata": {},
   "outputs": [],
   "source": [
    "Write a function called ‘perform_hypothesis_test’ that takes two lists of numbers as input, representing \n",
    "two samples. The function should perform a two-sample t-test and return the p-value. Use the ‘scipy.stats’ \n",
    "module in Python to calculate the t-test and p-value."
   ]
  },
  {
   "cell_type": "code",
   "execution_count": 1,
   "id": "ef684ba7-1924-4158-bb70-c4b45c4b50f8",
   "metadata": {},
   "outputs": [],
   "source": [
    "from scipy import stats\n",
    "\n",
    "def perform_hypothesis_test(sample1, sample2):\n",
    "    _, p_value = stats.ttest_ind(sample1, sample2)\n",
    "    return p_value\n"
   ]
  },
  {
   "cell_type": "code",
   "execution_count": 2,
   "id": "f0e61f65-3989-4956-947a-28b35dbd94df",
   "metadata": {},
   "outputs": [
    {
     "name": "stdout",
     "output_type": "stream",
     "text": [
      "0.09434977284243756\n"
     ]
    }
   ],
   "source": [
    "sample1 = [1, 2, 3, 4, 5]\n",
    "sample2 = [2, 4, 6, 8, 10]\n",
    "p_value = perform_hypothesis_test(sample1, sample2)\n",
    "print(p_value)"
   ]
  }
 ],
 "metadata": {
  "kernelspec": {
   "display_name": "Python 3 (ipykernel)",
   "language": "python",
   "name": "python3"
  },
  "language_info": {
   "codemirror_mode": {
    "name": "ipython",
    "version": 3
   },
   "file_extension": ".py",
   "mimetype": "text/x-python",
   "name": "python",
   "nbconvert_exporter": "python",
   "pygments_lexer": "ipython3",
   "version": "3.10.8"
  }
 },
 "nbformat": 4,
 "nbformat_minor": 5
}
