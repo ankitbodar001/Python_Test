{
 "cells": [
  {
   "cell_type": "code",
   "execution_count": null,
   "id": "c7f6d5eb-339c-4a25-be4b-47ed95e69a81",
   "metadata": {},
   "outputs": [],
   "source": [
    "Write a function that takes a list of numbers as input and returns a new list containing only the even numbers \n",
    "from the input list. Use list comprehension to solve this problem."
   ]
  },
  {
   "cell_type": "code",
   "execution_count": 8,
   "id": "e6877728-5518-4502-a12d-1abc33513d39",
   "metadata": {},
   "outputs": [],
   "source": [
    "def evenNum(arr):\n",
    "    return [num for num in arr if num % 2 == 0]\n",
    "    "
   ]
  },
  {
   "cell_type": "code",
   "execution_count": 9,
   "id": "61c7208b-5c19-41ec-b8b8-ef372efdbdd1",
   "metadata": {},
   "outputs": [
    {
     "name": "stdout",
     "output_type": "stream",
     "text": [
      "[2, 4, 6, 8, 10]\n"
     ]
    }
   ],
   "source": [
    "print(evenNum([1, 2, 3, 4, 5, 6, 7, 8, 9, 10]))"
   ]
  }
 ],
 "metadata": {
  "kernelspec": {
   "display_name": "Python 3 (ipykernel)",
   "language": "python",
   "name": "python3"
  },
  "language_info": {
   "codemirror_mode": {
    "name": "ipython",
    "version": 3
   },
   "file_extension": ".py",
   "mimetype": "text/x-python",
   "name": "python",
   "nbconvert_exporter": "python",
   "pygments_lexer": "ipython3",
   "version": "3.10.8"
  }
 },
 "nbformat": 4,
 "nbformat_minor": 5
}
