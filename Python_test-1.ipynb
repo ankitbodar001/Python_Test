{
 "cells": [
  {
   "cell_type": "code",
   "execution_count": 1,
   "id": "e98ecc33-12ba-4364-b196-ed8050c33062",
   "metadata": {},
   "outputs": [],
   "source": [
    "def remzero(nums):\n",
    "    for i in range(len(nums)):\n",
    "        if nums[i]==0:\n",
    "            nums.remove(nums[i])\n",
    "            nums.append(0)\n",
    "    return nums"
   ]
  },
  {
   "cell_type": "code",
   "execution_count": 2,
   "id": "e84bf3cc-9bfe-4403-9727-b285931ab47d",
   "metadata": {},
   "outputs": [
    {
     "name": "stdout",
     "output_type": "stream",
     "text": [
      "[1, 3, 12, 0, 0]\n"
     ]
    }
   ],
   "source": [
    "print(remzero([0,1,0,3,12]))"
   ]
  },
  {
   "cell_type": "code",
   "execution_count": 3,
   "id": "69493cd7-39bd-440b-8c8f-884e83266462",
   "metadata": {},
   "outputs": [
    {
     "name": "stdout",
     "output_type": "stream",
     "text": [
      "[0]\n"
     ]
    }
   ],
   "source": [
    "print(remzero([0]))"
   ]
  },
  {
   "cell_type": "code",
   "execution_count": null,
   "id": "c683fdd0-2acb-4e98-a08e-a6ce318130ff",
   "metadata": {},
   "outputs": [],
   "source": []
  }
 ],
 "metadata": {
  "kernelspec": {
   "display_name": "Python 3 (ipykernel)",
   "language": "python",
   "name": "python3"
  },
  "language_info": {
   "codemirror_mode": {
    "name": "ipython",
    "version": 3
   },
   "file_extension": ".py",
   "mimetype": "text/x-python",
   "name": "python",
   "nbconvert_exporter": "python",
   "pygments_lexer": "ipython3",
   "version": "3.10.8"
  }
 },
 "nbformat": 4,
 "nbformat_minor": 5
}
