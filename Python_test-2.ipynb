{
 "cells": [
  {
   "cell_type": "code",
   "execution_count": 9,
   "id": "0d219150-ca4c-473a-974f-6cc9eb6f2196",
   "metadata": {},
   "outputs": [],
   "source": [
    "def FirstNonRepeat(s):\n",
    "    if len(s)==0:\n",
    "        return -1\n",
    "    ans=-1\n",
    "    for i in s:\n",
    "        if (s.find(i, (s.find(i)+1))) == -1:\n",
    "            return s.index(i)\n",
    "    return -1"
   ]
  },
  {
   "cell_type": "code",
   "execution_count": 10,
   "id": "ddccf76d-270b-4d78-9c4b-b75f75562fd8",
   "metadata": {},
   "outputs": [
    {
     "name": "stdout",
     "output_type": "stream",
     "text": [
      "0\n"
     ]
    }
   ],
   "source": [
    "print(FirstNonRepeat('leetcode'))"
   ]
  },
  {
   "cell_type": "code",
   "execution_count": 11,
   "id": "6c8e2971-8b6f-446a-9de2-6f90bc5fb18c",
   "metadata": {},
   "outputs": [
    {
     "name": "stdout",
     "output_type": "stream",
     "text": [
      "2\n"
     ]
    }
   ],
   "source": [
    "print(FirstNonRepeat('loveleetcode'))"
   ]
  },
  {
   "cell_type": "code",
   "execution_count": 12,
   "id": "3ac8f13b-512d-47ec-82a4-b0a0777c4410",
   "metadata": {},
   "outputs": [
    {
     "name": "stdout",
     "output_type": "stream",
     "text": [
      "-1\n"
     ]
    }
   ],
   "source": [
    "print(FirstNonRepeat('aabb'))"
   ]
  },
  {
   "cell_type": "code",
   "execution_count": null,
   "id": "3c030403-7385-44e5-8df7-a5c3fb218fbd",
   "metadata": {},
   "outputs": [],
   "source": []
  }
 ],
 "metadata": {
  "kernelspec": {
   "display_name": "Python 3 (ipykernel)",
   "language": "python",
   "name": "python3"
  },
  "language_info": {
   "codemirror_mode": {
    "name": "ipython",
    "version": 3
   },
   "file_extension": ".py",
   "mimetype": "text/x-python",
   "name": "python",
   "nbconvert_exporter": "python",
   "pygments_lexer": "ipython3",
   "version": "3.10.8"
  }
 },
 "nbformat": 4,
 "nbformat_minor": 5
}
